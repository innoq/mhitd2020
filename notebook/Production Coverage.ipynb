{
 "cells": [
  {
   "cell_type": "markdown",
   "metadata": {},
   "source": [
    "# Jupyter Notebook and Python test area"
   ]
  },
  {
   "cell_type": "markdown",
   "metadata": {},
   "source": [
    "**Important shortcut: Press \"Ctrl\" + \"Enter\" for executing cells.**\n",
    "\n",
    "Try it out! Click on the next cell (grey box) and press \"Ctrl\" + \"Enter\""
   ]
  },
  {
   "cell_type": "code",
   "execution_count": null,
   "metadata": {},
   "outputs": [],
   "source": [
    "\"hello world\""
   ]
  },
  {
   "cell_type": "markdown",
   "metadata": {},
   "source": [
    "Test"
   ]
  },
  {
   "cell_type": "markdown",
   "metadata": {},
   "source": [
    "# Analysis\n",
    "## Using Production Coverage Measures to delete Parts of a Software System\n",
    "### Background\n",
    "\n",
    "Developers of the Java application \"Spring PetClinic\" said, that there would be much code that isn't used at all. \n",
    "\n",
    "### Our Task\n",
    "\n",
    "Before migrating the application to the new platform, an analysis should find out, which parts of the system are still in use and which are not (and may be deleted safely)."
   ]
  },
  {
   "cell_type": "markdown",
   "metadata": {},
   "source": [
    "## The Dataset\n",
    "\n",
    "### Origin\n",
    "\n",
    "To understand how much code isn't used, we recorded the executed code in production with the coverage tool [JaCoCo](http://www.jacoco.org/). The measurement took place between 21st Oct 2017 and 27st Oct 2017. The results were exported into a CSV file using the JaCoCo command line tool with the following command:\n",
    "\n",
    "```bash\n",
    "java -jar jacococli.jar report \"C:\\Temp\\jacoco.exec\" --classfiles \\\n",
    "C:\\dev\\repos\\spring-petclinic\\target\\classes --csv jacoco.csv\n",
    "```\n",
    "\n",
    "### File\n",
    "The CSV file `../dataset/jacoco_production_measure.csv` contains all lines of code that were passed through during the measurement's time span.\n",
    "\n",
    "### Content\n",
    "\n",
    "It shows a subset of the dataset created above with just the relevant coluns:\n",
    "\n",
    "* `PACKAGE`: The package name of the Java source code file\n",
    "* `CLASS`: The name of the Java class\n",
    "* `LINE_COVERED`: The number of lines that were executed\n",
    "* `LINE_MISSED`: The number of lines that weren't executed"
   ]
  },
  {
   "cell_type": "markdown",
   "metadata": {},
   "source": [
    "## Our Analysis"
   ]
  },
  {
   "cell_type": "markdown",
   "metadata": {},
   "source": [
    "### Step 1: Load the dataset"
   ]
  },
  {
   "cell_type": "code",
   "execution_count": null,
   "metadata": {
    "tags": [
     "delete"
    ]
   },
   "outputs": [],
   "source": []
  },
  {
   "cell_type": "markdown",
   "metadata": {
    "heading_collapsed": true
   },
   "source": [
    "###### <span style=\"color:green;\">SOLUTION <small>(Click the arrow on the left side if a hint is needed)</small></span>"
   ]
  },
  {
   "cell_type": "code",
   "execution_count": null,
   "metadata": {
    "deletable": false,
    "editable": false,
    "hidden": true,
    "run_control": {
     "frozen": true
    },
    "tags": []
   },
   "outputs": [],
   "source": [
    "import pandas as pd\n",
    "\n",
    "coverage = pd.read_csv(\"../dataset/jacoco_production_measure.csv\")\n",
    "coverage.head()"
   ]
  },
  {
   "cell_type": "markdown",
   "metadata": {},
   "source": [
    "### Step 2: Data preparation\n",
    "Create additional columns that how all lines of a class and the ratio of the covered lines to all lines of a class,"
   ]
  },
  {
   "cell_type": "code",
   "execution_count": null,
   "metadata": {
    "tags": [
     "delete"
    ]
   },
   "outputs": [],
   "source": []
  },
  {
   "cell_type": "markdown",
   "metadata": {
    "heading_collapsed": true
   },
   "source": [
    "###### <span style=\"color:green;\">SOLUTION <small>(Click the arrow on the left side if a hint is needed)</small></span>"
   ]
  },
  {
   "cell_type": "code",
   "execution_count": null,
   "metadata": {
    "deletable": false,
    "editable": false,
    "hidden": true,
    "run_control": {
     "frozen": true
    },
    "tags": []
   },
   "outputs": [],
   "source": [
    "coverage['lines'] = coverage.LINE_COVERED + coverage.LINE_MISSED\n",
    "coverage['ratio'] = coverage.LINE_COVERED / coverage.lines\n",
    "coverage.head()"
   ]
  },
  {
   "cell_type": "markdown",
   "metadata": {},
   "source": [
    "### Step 3: Modelling\n",
    "Calculate the mean coverage ratio per package."
   ]
  },
  {
   "cell_type": "code",
   "execution_count": null,
   "metadata": {
    "tags": [
     "delete"
    ]
   },
   "outputs": [],
   "source": []
  },
  {
   "cell_type": "markdown",
   "metadata": {
    "heading_collapsed": true
   },
   "source": [
    "###### <span style=\"color:green;\">SOLUTION <small>(Click the arrow on the left side if a hint is needed)</small></span>"
   ]
  },
  {
   "cell_type": "code",
   "execution_count": null,
   "metadata": {
    "deletable": false,
    "editable": false,
    "hidden": true,
    "run_control": {
     "frozen": true
    },
    "tags": []
   },
   "outputs": [],
   "source": [
    "mean_coverage = coverage.groupby(\"PACKAGE\")['ratio'].mean()\n",
    "mean_coverage"
   ]
  },
  {
   "cell_type": "markdown",
   "metadata": {},
   "source": [
    "### Step 4: Visualization\n",
    "Create a horizontal line chart that visualizes the coverage ratios for each package."
   ]
  },
  {
   "cell_type": "code",
   "execution_count": null,
   "metadata": {
    "tags": [
     "delete"
    ]
   },
   "outputs": [],
   "source": []
  },
  {
   "cell_type": "markdown",
   "metadata": {
    "heading_collapsed": true
   },
   "source": [
    "###### <span style=\"color:green;\">SOLUTION <small>(Click the arrow on the left side if a hint is needed)</small></span>"
   ]
  },
  {
   "cell_type": "code",
   "execution_count": null,
   "metadata": {
    "deletable": false,
    "editable": false,
    "hidden": true,
    "run_control": {
     "frozen": true
    },
    "tags": []
   },
   "outputs": [],
   "source": [
    "%matplotlib inline\n",
    "mean_coverage.plot(kind='barh');"
   ]
  }
 ],
 "metadata": {
  "hide_input": false,
  "kernelspec": {
   "display_name": "Python 3",
   "language": "python",
   "name": "python3"
  },
  "language_info": {
   "codemirror_mode": {
    "name": "ipython",
    "version": 3
   },
   "file_extension": ".py",
   "mimetype": "text/x-python",
   "name": "python",
   "nbconvert_exporter": "python",
   "pygments_lexer": "ipython3",
   "version": "3.8.3"
  },
  "toc": {
   "nav_menu": {},
   "number_sections": true,
   "sideBar": true,
   "skip_h1_title": false,
   "toc_cell": false,
   "toc_position": {},
   "toc_section_display": "block",
   "toc_window_display": false
  }
 },
 "nbformat": 4,
 "nbformat_minor": 2
}
